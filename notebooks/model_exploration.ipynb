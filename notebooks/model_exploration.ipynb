{
 "cells": [
  {
   "cell_type": "code",
   "execution_count": 1,
   "outputs": [],
   "source": [
    "import pandas as pd\n",
    "df = pd.read_csv('../data/interim/data.csv')"
   ],
   "metadata": {
    "collapsed": false,
    "ExecuteTime": {
     "end_time": "2023-11-30T15:04:13.608526498Z",
     "start_time": "2023-11-30T15:04:13.326007599Z"
    }
   },
   "id": "ac537d9830e9fa8c"
  },
  {
   "cell_type": "code",
   "execution_count": 30,
   "outputs": [],
   "source": [
    "import os"
   ],
   "metadata": {
    "collapsed": false,
    "ExecuteTime": {
     "end_time": "2023-11-30T15:32:02.049585784Z",
     "start_time": "2023-11-30T15:32:02.004104475Z"
    }
   },
   "id": "620a8f0c35f95ed8"
  },
  {
   "cell_type": "code",
   "execution_count": 14,
   "outputs": [
    {
     "data": {
      "text/plain": "   user_id  item_id  rating  timestamp  age gender  occupation zip_code   \n0      196      242       3  881250949   49      M      writer    55105  \\\n1      305      242       5  886307828   23      M  programmer    94086   \n2        6      242       4  883268170   42      M   executive    98101   \n3      234      242       4  891033261   60      M     retired    94702   \n4       63      242       3  875747190   31      M   marketing    75240   \n\n   movie_id   movie_title  ... Horror  Musical  Mystery  Romance  Sci_Fi   \n0       242  Kolya (1996)  ...      0        0        0        0       0  \\\n1       242  Kolya (1996)  ...      0        0        0        0       0   \n2       242  Kolya (1996)  ...      0        0        0        0       0   \n3       242  Kolya (1996)  ...      0        0        0        0       0   \n4       242  Kolya (1996)  ...      0        0        0        0       0   \n\n   Thriller  War  Western  release_unix  age_group  \n0         0    0        0   854064000.0      46-55  \n1         0    0        0   854064000.0      19-25  \n2         0    0        0   854064000.0      36-45  \n3         0    0        0   854064000.0        55+  \n4         0    0        0   854064000.0      26-35  \n\n[5 rows x 32 columns]",
      "text/html": "<div>\n<style scoped>\n    .dataframe tbody tr th:only-of-type {\n        vertical-align: middle;\n    }\n\n    .dataframe tbody tr th {\n        vertical-align: top;\n    }\n\n    .dataframe thead th {\n        text-align: right;\n    }\n</style>\n<table border=\"1\" class=\"dataframe\">\n  <thead>\n    <tr style=\"text-align: right;\">\n      <th></th>\n      <th>user_id</th>\n      <th>item_id</th>\n      <th>rating</th>\n      <th>timestamp</th>\n      <th>age</th>\n      <th>gender</th>\n      <th>occupation</th>\n      <th>zip_code</th>\n      <th>movie_id</th>\n      <th>movie_title</th>\n      <th>...</th>\n      <th>Horror</th>\n      <th>Musical</th>\n      <th>Mystery</th>\n      <th>Romance</th>\n      <th>Sci_Fi</th>\n      <th>Thriller</th>\n      <th>War</th>\n      <th>Western</th>\n      <th>release_unix</th>\n      <th>age_group</th>\n    </tr>\n  </thead>\n  <tbody>\n    <tr>\n      <th>0</th>\n      <td>196</td>\n      <td>242</td>\n      <td>3</td>\n      <td>881250949</td>\n      <td>49</td>\n      <td>M</td>\n      <td>writer</td>\n      <td>55105</td>\n      <td>242</td>\n      <td>Kolya (1996)</td>\n      <td>...</td>\n      <td>0</td>\n      <td>0</td>\n      <td>0</td>\n      <td>0</td>\n      <td>0</td>\n      <td>0</td>\n      <td>0</td>\n      <td>0</td>\n      <td>854064000.0</td>\n      <td>46-55</td>\n    </tr>\n    <tr>\n      <th>1</th>\n      <td>305</td>\n      <td>242</td>\n      <td>5</td>\n      <td>886307828</td>\n      <td>23</td>\n      <td>M</td>\n      <td>programmer</td>\n      <td>94086</td>\n      <td>242</td>\n      <td>Kolya (1996)</td>\n      <td>...</td>\n      <td>0</td>\n      <td>0</td>\n      <td>0</td>\n      <td>0</td>\n      <td>0</td>\n      <td>0</td>\n      <td>0</td>\n      <td>0</td>\n      <td>854064000.0</td>\n      <td>19-25</td>\n    </tr>\n    <tr>\n      <th>2</th>\n      <td>6</td>\n      <td>242</td>\n      <td>4</td>\n      <td>883268170</td>\n      <td>42</td>\n      <td>M</td>\n      <td>executive</td>\n      <td>98101</td>\n      <td>242</td>\n      <td>Kolya (1996)</td>\n      <td>...</td>\n      <td>0</td>\n      <td>0</td>\n      <td>0</td>\n      <td>0</td>\n      <td>0</td>\n      <td>0</td>\n      <td>0</td>\n      <td>0</td>\n      <td>854064000.0</td>\n      <td>36-45</td>\n    </tr>\n    <tr>\n      <th>3</th>\n      <td>234</td>\n      <td>242</td>\n      <td>4</td>\n      <td>891033261</td>\n      <td>60</td>\n      <td>M</td>\n      <td>retired</td>\n      <td>94702</td>\n      <td>242</td>\n      <td>Kolya (1996)</td>\n      <td>...</td>\n      <td>0</td>\n      <td>0</td>\n      <td>0</td>\n      <td>0</td>\n      <td>0</td>\n      <td>0</td>\n      <td>0</td>\n      <td>0</td>\n      <td>854064000.0</td>\n      <td>55+</td>\n    </tr>\n    <tr>\n      <th>4</th>\n      <td>63</td>\n      <td>242</td>\n      <td>3</td>\n      <td>875747190</td>\n      <td>31</td>\n      <td>M</td>\n      <td>marketing</td>\n      <td>75240</td>\n      <td>242</td>\n      <td>Kolya (1996)</td>\n      <td>...</td>\n      <td>0</td>\n      <td>0</td>\n      <td>0</td>\n      <td>0</td>\n      <td>0</td>\n      <td>0</td>\n      <td>0</td>\n      <td>0</td>\n      <td>854064000.0</td>\n      <td>26-35</td>\n    </tr>\n  </tbody>\n</table>\n<p>5 rows × 32 columns</p>\n</div>"
     },
     "execution_count": 14,
     "metadata": {},
     "output_type": "execute_result"
    }
   ],
   "source": [
    "df.head()"
   ],
   "metadata": {
    "collapsed": false,
    "ExecuteTime": {
     "end_time": "2023-11-30T12:45:37.082649416Z",
     "start_time": "2023-11-30T12:45:37.037592026Z"
    }
   },
   "id": "c1fba42f2af17bfc"
  },
  {
   "cell_type": "code",
   "execution_count": 2,
   "outputs": [],
   "source": [
    "# age group is redundant because there is simply age column, it is an artefact form data_exploration\n",
    "# item_id is duplicate of movie_id\n",
    "# elaboration about zip_code, movie_title, IMDb_URL are in report\n",
    "df = df.drop(columns=['zip_code', 'movie_title', 'age_group', 'item_id', 'IMDb_URL'], axis=1)"
   ],
   "metadata": {
    "collapsed": false,
    "ExecuteTime": {
     "end_time": "2023-11-30T15:04:19.399893580Z",
     "start_time": "2023-11-30T15:04:19.376311631Z"
    }
   },
   "id": "3a110081357567f9"
  },
  {
   "cell_type": "code",
   "execution_count": 16,
   "outputs": [
    {
     "data": {
      "text/plain": "   user_id  rating  timestamp  age gender  occupation  movie_id  unknown   \n0      196       3  881250949   49      M      writer       242        0  \\\n1      305       5  886307828   23      M  programmer       242        0   \n2        6       4  883268170   42      M   executive       242        0   \n3      234       4  891033261   60      M     retired       242        0   \n4       63       3  875747190   31      M   marketing       242        0   \n\n   Action  Adventure  ...  Film_Noir  Horror  Musical  Mystery  Romance   \n0       0          0  ...          0       0        0        0        0  \\\n1       0          0  ...          0       0        0        0        0   \n2       0          0  ...          0       0        0        0        0   \n3       0          0  ...          0       0        0        0        0   \n4       0          0  ...          0       0        0        0        0   \n\n   Sci_Fi  Thriller  War  Western  release_unix  \n0       0         0    0        0   854064000.0  \n1       0         0    0        0   854064000.0  \n2       0         0    0        0   854064000.0  \n3       0         0    0        0   854064000.0  \n4       0         0    0        0   854064000.0  \n\n[5 rows x 27 columns]",
      "text/html": "<div>\n<style scoped>\n    .dataframe tbody tr th:only-of-type {\n        vertical-align: middle;\n    }\n\n    .dataframe tbody tr th {\n        vertical-align: top;\n    }\n\n    .dataframe thead th {\n        text-align: right;\n    }\n</style>\n<table border=\"1\" class=\"dataframe\">\n  <thead>\n    <tr style=\"text-align: right;\">\n      <th></th>\n      <th>user_id</th>\n      <th>rating</th>\n      <th>timestamp</th>\n      <th>age</th>\n      <th>gender</th>\n      <th>occupation</th>\n      <th>movie_id</th>\n      <th>unknown</th>\n      <th>Action</th>\n      <th>Adventure</th>\n      <th>...</th>\n      <th>Film_Noir</th>\n      <th>Horror</th>\n      <th>Musical</th>\n      <th>Mystery</th>\n      <th>Romance</th>\n      <th>Sci_Fi</th>\n      <th>Thriller</th>\n      <th>War</th>\n      <th>Western</th>\n      <th>release_unix</th>\n    </tr>\n  </thead>\n  <tbody>\n    <tr>\n      <th>0</th>\n      <td>196</td>\n      <td>3</td>\n      <td>881250949</td>\n      <td>49</td>\n      <td>M</td>\n      <td>writer</td>\n      <td>242</td>\n      <td>0</td>\n      <td>0</td>\n      <td>0</td>\n      <td>...</td>\n      <td>0</td>\n      <td>0</td>\n      <td>0</td>\n      <td>0</td>\n      <td>0</td>\n      <td>0</td>\n      <td>0</td>\n      <td>0</td>\n      <td>0</td>\n      <td>854064000.0</td>\n    </tr>\n    <tr>\n      <th>1</th>\n      <td>305</td>\n      <td>5</td>\n      <td>886307828</td>\n      <td>23</td>\n      <td>M</td>\n      <td>programmer</td>\n      <td>242</td>\n      <td>0</td>\n      <td>0</td>\n      <td>0</td>\n      <td>...</td>\n      <td>0</td>\n      <td>0</td>\n      <td>0</td>\n      <td>0</td>\n      <td>0</td>\n      <td>0</td>\n      <td>0</td>\n      <td>0</td>\n      <td>0</td>\n      <td>854064000.0</td>\n    </tr>\n    <tr>\n      <th>2</th>\n      <td>6</td>\n      <td>4</td>\n      <td>883268170</td>\n      <td>42</td>\n      <td>M</td>\n      <td>executive</td>\n      <td>242</td>\n      <td>0</td>\n      <td>0</td>\n      <td>0</td>\n      <td>...</td>\n      <td>0</td>\n      <td>0</td>\n      <td>0</td>\n      <td>0</td>\n      <td>0</td>\n      <td>0</td>\n      <td>0</td>\n      <td>0</td>\n      <td>0</td>\n      <td>854064000.0</td>\n    </tr>\n    <tr>\n      <th>3</th>\n      <td>234</td>\n      <td>4</td>\n      <td>891033261</td>\n      <td>60</td>\n      <td>M</td>\n      <td>retired</td>\n      <td>242</td>\n      <td>0</td>\n      <td>0</td>\n      <td>0</td>\n      <td>...</td>\n      <td>0</td>\n      <td>0</td>\n      <td>0</td>\n      <td>0</td>\n      <td>0</td>\n      <td>0</td>\n      <td>0</td>\n      <td>0</td>\n      <td>0</td>\n      <td>854064000.0</td>\n    </tr>\n    <tr>\n      <th>4</th>\n      <td>63</td>\n      <td>3</td>\n      <td>875747190</td>\n      <td>31</td>\n      <td>M</td>\n      <td>marketing</td>\n      <td>242</td>\n      <td>0</td>\n      <td>0</td>\n      <td>0</td>\n      <td>...</td>\n      <td>0</td>\n      <td>0</td>\n      <td>0</td>\n      <td>0</td>\n      <td>0</td>\n      <td>0</td>\n      <td>0</td>\n      <td>0</td>\n      <td>0</td>\n      <td>854064000.0</td>\n    </tr>\n  </tbody>\n</table>\n<p>5 rows × 27 columns</p>\n</div>"
     },
     "execution_count": 16,
     "metadata": {},
     "output_type": "execute_result"
    }
   ],
   "source": [
    "df.head()"
   ],
   "metadata": {
    "collapsed": false,
    "ExecuteTime": {
     "end_time": "2023-11-30T12:45:41.035169343Z",
     "start_time": "2023-11-30T12:45:41.032798337Z"
    }
   },
   "id": "7e5cf1c94df1ce37"
  },
  {
   "cell_type": "code",
   "execution_count": 3,
   "outputs": [],
   "source": [
    "df = pd.get_dummies(df, columns=['gender', 'occupation'])"
   ],
   "metadata": {
    "collapsed": false,
    "ExecuteTime": {
     "end_time": "2023-11-30T15:04:22.341599857Z",
     "start_time": "2023-11-30T15:04:22.308835448Z"
    }
   },
   "id": "e4612fa583949a6f"
  },
  {
   "cell_type": "code",
   "execution_count": 18,
   "outputs": [
    {
     "data": {
      "text/plain": "   user_id  rating  timestamp  age  movie_id  unknown  Action  Adventure   \n0      196       3  881250949   49       242        0       0          0  \\\n1      305       5  886307828   23       242        0       0          0   \n2        6       4  883268170   42       242        0       0          0   \n3      234       4  891033261   60       242        0       0          0   \n4       63       3  875747190   31       242        0       0          0   \n\n   Animation  Children  ...  occupation_marketing  occupation_none   \n0          0         0  ...                 False            False  \\\n1          0         0  ...                 False            False   \n2          0         0  ...                 False            False   \n3          0         0  ...                 False            False   \n4          0         0  ...                  True            False   \n\n   occupation_other  occupation_programmer  occupation_retired   \n0             False                  False               False  \\\n1             False                   True               False   \n2             False                  False               False   \n3             False                  False                True   \n4             False                  False               False   \n\n   occupation_salesman  occupation_scientist  occupation_student   \n0                False                 False               False  \\\n1                False                 False               False   \n2                False                 False               False   \n3                False                 False               False   \n4                False                 False               False   \n\n   occupation_technician  occupation_writer  \n0                  False               True  \n1                  False              False  \n2                  False              False  \n3                  False              False  \n4                  False              False  \n\n[5 rows x 48 columns]",
      "text/html": "<div>\n<style scoped>\n    .dataframe tbody tr th:only-of-type {\n        vertical-align: middle;\n    }\n\n    .dataframe tbody tr th {\n        vertical-align: top;\n    }\n\n    .dataframe thead th {\n        text-align: right;\n    }\n</style>\n<table border=\"1\" class=\"dataframe\">\n  <thead>\n    <tr style=\"text-align: right;\">\n      <th></th>\n      <th>user_id</th>\n      <th>rating</th>\n      <th>timestamp</th>\n      <th>age</th>\n      <th>movie_id</th>\n      <th>unknown</th>\n      <th>Action</th>\n      <th>Adventure</th>\n      <th>Animation</th>\n      <th>Children</th>\n      <th>...</th>\n      <th>occupation_marketing</th>\n      <th>occupation_none</th>\n      <th>occupation_other</th>\n      <th>occupation_programmer</th>\n      <th>occupation_retired</th>\n      <th>occupation_salesman</th>\n      <th>occupation_scientist</th>\n      <th>occupation_student</th>\n      <th>occupation_technician</th>\n      <th>occupation_writer</th>\n    </tr>\n  </thead>\n  <tbody>\n    <tr>\n      <th>0</th>\n      <td>196</td>\n      <td>3</td>\n      <td>881250949</td>\n      <td>49</td>\n      <td>242</td>\n      <td>0</td>\n      <td>0</td>\n      <td>0</td>\n      <td>0</td>\n      <td>0</td>\n      <td>...</td>\n      <td>False</td>\n      <td>False</td>\n      <td>False</td>\n      <td>False</td>\n      <td>False</td>\n      <td>False</td>\n      <td>False</td>\n      <td>False</td>\n      <td>False</td>\n      <td>True</td>\n    </tr>\n    <tr>\n      <th>1</th>\n      <td>305</td>\n      <td>5</td>\n      <td>886307828</td>\n      <td>23</td>\n      <td>242</td>\n      <td>0</td>\n      <td>0</td>\n      <td>0</td>\n      <td>0</td>\n      <td>0</td>\n      <td>...</td>\n      <td>False</td>\n      <td>False</td>\n      <td>False</td>\n      <td>True</td>\n      <td>False</td>\n      <td>False</td>\n      <td>False</td>\n      <td>False</td>\n      <td>False</td>\n      <td>False</td>\n    </tr>\n    <tr>\n      <th>2</th>\n      <td>6</td>\n      <td>4</td>\n      <td>883268170</td>\n      <td>42</td>\n      <td>242</td>\n      <td>0</td>\n      <td>0</td>\n      <td>0</td>\n      <td>0</td>\n      <td>0</td>\n      <td>...</td>\n      <td>False</td>\n      <td>False</td>\n      <td>False</td>\n      <td>False</td>\n      <td>False</td>\n      <td>False</td>\n      <td>False</td>\n      <td>False</td>\n      <td>False</td>\n      <td>False</td>\n    </tr>\n    <tr>\n      <th>3</th>\n      <td>234</td>\n      <td>4</td>\n      <td>891033261</td>\n      <td>60</td>\n      <td>242</td>\n      <td>0</td>\n      <td>0</td>\n      <td>0</td>\n      <td>0</td>\n      <td>0</td>\n      <td>...</td>\n      <td>False</td>\n      <td>False</td>\n      <td>False</td>\n      <td>False</td>\n      <td>True</td>\n      <td>False</td>\n      <td>False</td>\n      <td>False</td>\n      <td>False</td>\n      <td>False</td>\n    </tr>\n    <tr>\n      <th>4</th>\n      <td>63</td>\n      <td>3</td>\n      <td>875747190</td>\n      <td>31</td>\n      <td>242</td>\n      <td>0</td>\n      <td>0</td>\n      <td>0</td>\n      <td>0</td>\n      <td>0</td>\n      <td>...</td>\n      <td>True</td>\n      <td>False</td>\n      <td>False</td>\n      <td>False</td>\n      <td>False</td>\n      <td>False</td>\n      <td>False</td>\n      <td>False</td>\n      <td>False</td>\n      <td>False</td>\n    </tr>\n  </tbody>\n</table>\n<p>5 rows × 48 columns</p>\n</div>"
     },
     "execution_count": 18,
     "metadata": {},
     "output_type": "execute_result"
    }
   ],
   "source": [
    "df.head()"
   ],
   "metadata": {
    "collapsed": false,
    "ExecuteTime": {
     "end_time": "2023-11-30T12:45:46.134631001Z",
     "start_time": "2023-11-30T12:45:46.132616293Z"
    }
   },
   "id": "e1b2e05dd43d0e6c"
  },
  {
   "cell_type": "code",
   "execution_count": 11,
   "outputs": [
    {
     "name": "stdout",
     "output_type": "stream",
     "text": [
      "<class 'pandas.core.frame.DataFrame'>\n",
      "RangeIndex: 100000 entries, 0 to 99999\n",
      "Data columns (total 48 columns):\n",
      " #   Column                    Non-Null Count   Dtype  \n",
      "---  ------                    --------------   -----  \n",
      " 0   user_id                   100000 non-null  int64  \n",
      " 1   rating                    100000 non-null  int64  \n",
      " 2   timestamp                 100000 non-null  int64  \n",
      " 3   age                       100000 non-null  int64  \n",
      " 4   movie_id                  100000 non-null  int64  \n",
      " 5   unknown                   100000 non-null  int64  \n",
      " 6   Action                    100000 non-null  int64  \n",
      " 7   Adventure                 100000 non-null  int64  \n",
      " 8   Animation                 100000 non-null  int64  \n",
      " 9   Children                  100000 non-null  int64  \n",
      " 10  Comedy                    100000 non-null  int64  \n",
      " 11  Crime                     100000 non-null  int64  \n",
      " 12  Documentary               100000 non-null  int64  \n",
      " 13  Drama                     100000 non-null  int64  \n",
      " 14  Fantasy                   100000 non-null  int64  \n",
      " 15  Film_Noir                 100000 non-null  int64  \n",
      " 16  Horror                    100000 non-null  int64  \n",
      " 17  Musical                   100000 non-null  int64  \n",
      " 18  Mystery                   100000 non-null  int64  \n",
      " 19  Romance                   100000 non-null  int64  \n",
      " 20  Sci_Fi                    100000 non-null  int64  \n",
      " 21  Thriller                  100000 non-null  int64  \n",
      " 22  War                       100000 non-null  int64  \n",
      " 23  Western                   100000 non-null  int64  \n",
      " 24  release_unix              100000 non-null  float64\n",
      " 25  gender_F                  100000 non-null  bool   \n",
      " 26  gender_M                  100000 non-null  bool   \n",
      " 27  occupation_administrator  100000 non-null  bool   \n",
      " 28  occupation_artist         100000 non-null  bool   \n",
      " 29  occupation_doctor         100000 non-null  bool   \n",
      " 30  occupation_educator       100000 non-null  bool   \n",
      " 31  occupation_engineer       100000 non-null  bool   \n",
      " 32  occupation_entertainment  100000 non-null  bool   \n",
      " 33  occupation_executive      100000 non-null  bool   \n",
      " 34  occupation_healthcare     100000 non-null  bool   \n",
      " 35  occupation_homemaker      100000 non-null  bool   \n",
      " 36  occupation_lawyer         100000 non-null  bool   \n",
      " 37  occupation_librarian      100000 non-null  bool   \n",
      " 38  occupation_marketing      100000 non-null  bool   \n",
      " 39  occupation_none           100000 non-null  bool   \n",
      " 40  occupation_other          100000 non-null  bool   \n",
      " 41  occupation_programmer     100000 non-null  bool   \n",
      " 42  occupation_retired        100000 non-null  bool   \n",
      " 43  occupation_salesman       100000 non-null  bool   \n",
      " 44  occupation_scientist      100000 non-null  bool   \n",
      " 45  occupation_student        100000 non-null  bool   \n",
      " 46  occupation_technician     100000 non-null  bool   \n",
      " 47  occupation_writer         100000 non-null  bool   \n",
      "dtypes: bool(23), float64(1), int64(24)\n",
      "memory usage: 21.3 MB\n"
     ]
    }
   ],
   "source": [
    "df.info()"
   ],
   "metadata": {
    "collapsed": false,
    "ExecuteTime": {
     "end_time": "2023-11-30T12:37:50.304459792Z",
     "start_time": "2023-11-30T12:37:50.291155725Z"
    }
   },
   "id": "fe4ec9d04163b8bc"
  },
  {
   "cell_type": "code",
   "execution_count": 4,
   "outputs": [],
   "source": [
    "from sklearn.model_selection import train_test_split\n",
    "\n",
    "# Stratified Sampling ensures that the distribution of classes (in this case, ratings) is maintained in both the training and testing datasets.\n",
    "train, test = train_test_split(df, test_size=0.2, stratify=df['rating'], random_state=42)"
   ],
   "metadata": {
    "collapsed": false,
    "ExecuteTime": {
     "end_time": "2023-11-30T15:04:26.515929458Z",
     "start_time": "2023-11-30T15:04:26.223990731Z"
    }
   },
   "id": "initial_id"
  },
  {
   "cell_type": "code",
   "execution_count": 5,
   "outputs": [],
   "source": [
    "from sklearn.preprocessing import MinMaxScaler\n",
    "# Normalization is the process of scaling numerical features to a standard range, often between 0 and 1.\n",
    "scaler = MinMaxScaler()\n",
    "df['age_normalized'] = scaler.fit_transform(df[['age']])"
   ],
   "metadata": {
    "collapsed": false,
    "ExecuteTime": {
     "end_time": "2023-11-30T15:04:27.907759293Z",
     "start_time": "2023-11-30T15:04:27.899149734Z"
    }
   },
   "id": "8393681126c39375"
  },
  {
   "cell_type": "code",
   "execution_count": 23,
   "outputs": [
    {
     "data": {
      "text/plain": "       user_id  rating  timestamp  age  movie_id  unknown  Action  Adventure   \n22854      198       4  884207136   21       176        0       1          0  \\\n60530      234       4  892333573   60       603        0       0          0   \n9232       746       4  885075367   25       550        0       1          0   \n22039      773       2  888540063   20        96        0       1          0   \n32263      899       3  884121572   32       228        0       1          1   \n...        ...     ...        ...  ...       ...      ...     ...        ...   \n52458       23       5  874785809   30       171        0       0          0   \n90573      815       3  878697043   32       623        0       0          0   \n853        639       4  891238550   42       306        0       0          0   \n58934      385       3  879443217   36       503        0       0          0   \n69148      524       3  884634679   56       490        0       0          0   \n\n       Animation  Children  ...  occupation_none  occupation_other   \n22854          0         0  ...            False             False  \\\n60530          0         0  ...            False             False   \n9232           0         0  ...            False             False   \n22039          0         0  ...            False             False   \n32263          0         0  ...            False              True   \n...          ...       ...  ...              ...               ...   \n52458          0         0  ...            False             False   \n90573          0         1  ...            False              True   \n853            0         0  ...            False             False   \n58934          0         0  ...            False             False   \n69148          0         0  ...            False             False   \n\n       occupation_programmer  occupation_retired  occupation_salesman   \n22854                  False               False                False  \\\n60530                  False                True                False   \n9232                   False               False                False   \n22039                  False               False                False   \n32263                  False               False                False   \n...                      ...                 ...                  ...   \n52458                  False               False                False   \n90573                  False               False                False   \n853                    False               False                False   \n58934                  False               False                False   \n69148                  False               False                False   \n\n       occupation_scientist  occupation_student  occupation_technician   \n22854                 False                True                  False  \\\n60530                 False               False                  False   \n9232                  False               False                  False   \n22039                 False                True                  False   \n32263                 False               False                  False   \n...                     ...                 ...                    ...   \n52458                 False               False                  False   \n90573                 False               False                  False   \n853                   False               False                  False   \n58934                 False               False                  False   \n69148                 False               False                  False   \n\n       occupation_writer  age_normalized  \n22854              False        0.212121  \n60530              False        0.803030  \n9232               False        0.272727  \n22039              False        0.196970  \n32263              False        0.378788  \n...                  ...             ...  \n52458              False        0.348485  \n90573              False        0.378788  \n853                False        0.530303  \n58934               True        0.439394  \n69148              False        0.742424  \n\n[80000 rows x 49 columns]",
      "text/html": "<div>\n<style scoped>\n    .dataframe tbody tr th:only-of-type {\n        vertical-align: middle;\n    }\n\n    .dataframe tbody tr th {\n        vertical-align: top;\n    }\n\n    .dataframe thead th {\n        text-align: right;\n    }\n</style>\n<table border=\"1\" class=\"dataframe\">\n  <thead>\n    <tr style=\"text-align: right;\">\n      <th></th>\n      <th>user_id</th>\n      <th>rating</th>\n      <th>timestamp</th>\n      <th>age</th>\n      <th>movie_id</th>\n      <th>unknown</th>\n      <th>Action</th>\n      <th>Adventure</th>\n      <th>Animation</th>\n      <th>Children</th>\n      <th>...</th>\n      <th>occupation_none</th>\n      <th>occupation_other</th>\n      <th>occupation_programmer</th>\n      <th>occupation_retired</th>\n      <th>occupation_salesman</th>\n      <th>occupation_scientist</th>\n      <th>occupation_student</th>\n      <th>occupation_technician</th>\n      <th>occupation_writer</th>\n      <th>age_normalized</th>\n    </tr>\n  </thead>\n  <tbody>\n    <tr>\n      <th>22854</th>\n      <td>198</td>\n      <td>4</td>\n      <td>884207136</td>\n      <td>21</td>\n      <td>176</td>\n      <td>0</td>\n      <td>1</td>\n      <td>0</td>\n      <td>0</td>\n      <td>0</td>\n      <td>...</td>\n      <td>False</td>\n      <td>False</td>\n      <td>False</td>\n      <td>False</td>\n      <td>False</td>\n      <td>False</td>\n      <td>True</td>\n      <td>False</td>\n      <td>False</td>\n      <td>0.212121</td>\n    </tr>\n    <tr>\n      <th>60530</th>\n      <td>234</td>\n      <td>4</td>\n      <td>892333573</td>\n      <td>60</td>\n      <td>603</td>\n      <td>0</td>\n      <td>0</td>\n      <td>0</td>\n      <td>0</td>\n      <td>0</td>\n      <td>...</td>\n      <td>False</td>\n      <td>False</td>\n      <td>False</td>\n      <td>True</td>\n      <td>False</td>\n      <td>False</td>\n      <td>False</td>\n      <td>False</td>\n      <td>False</td>\n      <td>0.803030</td>\n    </tr>\n    <tr>\n      <th>9232</th>\n      <td>746</td>\n      <td>4</td>\n      <td>885075367</td>\n      <td>25</td>\n      <td>550</td>\n      <td>0</td>\n      <td>1</td>\n      <td>0</td>\n      <td>0</td>\n      <td>0</td>\n      <td>...</td>\n      <td>False</td>\n      <td>False</td>\n      <td>False</td>\n      <td>False</td>\n      <td>False</td>\n      <td>False</td>\n      <td>False</td>\n      <td>False</td>\n      <td>False</td>\n      <td>0.272727</td>\n    </tr>\n    <tr>\n      <th>22039</th>\n      <td>773</td>\n      <td>2</td>\n      <td>888540063</td>\n      <td>20</td>\n      <td>96</td>\n      <td>0</td>\n      <td>1</td>\n      <td>0</td>\n      <td>0</td>\n      <td>0</td>\n      <td>...</td>\n      <td>False</td>\n      <td>False</td>\n      <td>False</td>\n      <td>False</td>\n      <td>False</td>\n      <td>False</td>\n      <td>True</td>\n      <td>False</td>\n      <td>False</td>\n      <td>0.196970</td>\n    </tr>\n    <tr>\n      <th>32263</th>\n      <td>899</td>\n      <td>3</td>\n      <td>884121572</td>\n      <td>32</td>\n      <td>228</td>\n      <td>0</td>\n      <td>1</td>\n      <td>1</td>\n      <td>0</td>\n      <td>0</td>\n      <td>...</td>\n      <td>False</td>\n      <td>True</td>\n      <td>False</td>\n      <td>False</td>\n      <td>False</td>\n      <td>False</td>\n      <td>False</td>\n      <td>False</td>\n      <td>False</td>\n      <td>0.378788</td>\n    </tr>\n    <tr>\n      <th>...</th>\n      <td>...</td>\n      <td>...</td>\n      <td>...</td>\n      <td>...</td>\n      <td>...</td>\n      <td>...</td>\n      <td>...</td>\n      <td>...</td>\n      <td>...</td>\n      <td>...</td>\n      <td>...</td>\n      <td>...</td>\n      <td>...</td>\n      <td>...</td>\n      <td>...</td>\n      <td>...</td>\n      <td>...</td>\n      <td>...</td>\n      <td>...</td>\n      <td>...</td>\n      <td>...</td>\n    </tr>\n    <tr>\n      <th>52458</th>\n      <td>23</td>\n      <td>5</td>\n      <td>874785809</td>\n      <td>30</td>\n      <td>171</td>\n      <td>0</td>\n      <td>0</td>\n      <td>0</td>\n      <td>0</td>\n      <td>0</td>\n      <td>...</td>\n      <td>False</td>\n      <td>False</td>\n      <td>False</td>\n      <td>False</td>\n      <td>False</td>\n      <td>False</td>\n      <td>False</td>\n      <td>False</td>\n      <td>False</td>\n      <td>0.348485</td>\n    </tr>\n    <tr>\n      <th>90573</th>\n      <td>815</td>\n      <td>3</td>\n      <td>878697043</td>\n      <td>32</td>\n      <td>623</td>\n      <td>0</td>\n      <td>0</td>\n      <td>0</td>\n      <td>0</td>\n      <td>1</td>\n      <td>...</td>\n      <td>False</td>\n      <td>True</td>\n      <td>False</td>\n      <td>False</td>\n      <td>False</td>\n      <td>False</td>\n      <td>False</td>\n      <td>False</td>\n      <td>False</td>\n      <td>0.378788</td>\n    </tr>\n    <tr>\n      <th>853</th>\n      <td>639</td>\n      <td>4</td>\n      <td>891238550</td>\n      <td>42</td>\n      <td>306</td>\n      <td>0</td>\n      <td>0</td>\n      <td>0</td>\n      <td>0</td>\n      <td>0</td>\n      <td>...</td>\n      <td>False</td>\n      <td>False</td>\n      <td>False</td>\n      <td>False</td>\n      <td>False</td>\n      <td>False</td>\n      <td>False</td>\n      <td>False</td>\n      <td>False</td>\n      <td>0.530303</td>\n    </tr>\n    <tr>\n      <th>58934</th>\n      <td>385</td>\n      <td>3</td>\n      <td>879443217</td>\n      <td>36</td>\n      <td>503</td>\n      <td>0</td>\n      <td>0</td>\n      <td>0</td>\n      <td>0</td>\n      <td>0</td>\n      <td>...</td>\n      <td>False</td>\n      <td>False</td>\n      <td>False</td>\n      <td>False</td>\n      <td>False</td>\n      <td>False</td>\n      <td>False</td>\n      <td>False</td>\n      <td>True</td>\n      <td>0.439394</td>\n    </tr>\n    <tr>\n      <th>69148</th>\n      <td>524</td>\n      <td>3</td>\n      <td>884634679</td>\n      <td>56</td>\n      <td>490</td>\n      <td>0</td>\n      <td>0</td>\n      <td>0</td>\n      <td>0</td>\n      <td>0</td>\n      <td>...</td>\n      <td>False</td>\n      <td>False</td>\n      <td>False</td>\n      <td>False</td>\n      <td>False</td>\n      <td>False</td>\n      <td>False</td>\n      <td>False</td>\n      <td>False</td>\n      <td>0.742424</td>\n    </tr>\n  </tbody>\n</table>\n<p>80000 rows × 49 columns</p>\n</div>"
     },
     "execution_count": 23,
     "metadata": {},
     "output_type": "execute_result"
    }
   ],
   "source": [
    "train"
   ],
   "metadata": {
    "collapsed": false,
    "ExecuteTime": {
     "end_time": "2023-11-30T12:48:59.302073007Z",
     "start_time": "2023-11-30T12:48:59.289793277Z"
    }
   },
   "id": "78ee637c3a0e979e"
  },
  {
   "cell_type": "code",
   "execution_count": 6,
   "outputs": [],
   "source": [
    "from imblearn.over_sampling import SMOTE\n",
    "# data balancing using SMOTE (Synthetic Minority Over-sampling Technique)\n",
    "# 'X' is feature matrix and 'y' is target variable\n",
    "smote = SMOTE(random_state=42)\n",
    "y = train['rating']\n",
    "train = train.drop(columns=['rating'], axis=1)\n",
    "X = train\n",
    "X_resampled, y_resampled = smote.fit_resample(X, y)"
   ],
   "metadata": {
    "collapsed": false,
    "ExecuteTime": {
     "end_time": "2023-11-30T15:04:32.609704873Z",
     "start_time": "2023-11-30T15:04:31.331989508Z"
    }
   },
   "id": "ca07cf0443e85406"
  },
  {
   "cell_type": "code",
   "execution_count": 29,
   "outputs": [
    {
     "name": "stdout",
     "output_type": "stream",
     "text": [
      "<class 'pandas.core.frame.DataFrame'>\n",
      "RangeIndex: 136695 entries, 0 to 136694\n",
      "Data columns (total 48 columns):\n",
      " #   Column                    Non-Null Count   Dtype  \n",
      "---  ------                    --------------   -----  \n",
      " 0   user_id                   136695 non-null  int64  \n",
      " 1   timestamp                 136695 non-null  int64  \n",
      " 2   age                       136695 non-null  int64  \n",
      " 3   movie_id                  136695 non-null  int64  \n",
      " 4   unknown                   136695 non-null  int64  \n",
      " 5   Action                    136695 non-null  int64  \n",
      " 6   Adventure                 136695 non-null  int64  \n",
      " 7   Animation                 136695 non-null  int64  \n",
      " 8   Children                  136695 non-null  int64  \n",
      " 9   Comedy                    136695 non-null  int64  \n",
      " 10  Crime                     136695 non-null  int64  \n",
      " 11  Documentary               136695 non-null  int64  \n",
      " 12  Drama                     136695 non-null  int64  \n",
      " 13  Fantasy                   136695 non-null  int64  \n",
      " 14  Film_Noir                 136695 non-null  int64  \n",
      " 15  Horror                    136695 non-null  int64  \n",
      " 16  Musical                   136695 non-null  int64  \n",
      " 17  Mystery                   136695 non-null  int64  \n",
      " 18  Romance                   136695 non-null  int64  \n",
      " 19  Sci_Fi                    136695 non-null  int64  \n",
      " 20  Thriller                  136695 non-null  int64  \n",
      " 21  War                       136695 non-null  int64  \n",
      " 22  Western                   136695 non-null  int64  \n",
      " 23  release_unix              136695 non-null  float64\n",
      " 24  gender_F                  136695 non-null  bool   \n",
      " 25  gender_M                  136695 non-null  bool   \n",
      " 26  occupation_administrator  136695 non-null  bool   \n",
      " 27  occupation_artist         136695 non-null  bool   \n",
      " 28  occupation_doctor         136695 non-null  bool   \n",
      " 29  occupation_educator       136695 non-null  bool   \n",
      " 30  occupation_engineer       136695 non-null  bool   \n",
      " 31  occupation_entertainment  136695 non-null  bool   \n",
      " 32  occupation_executive      136695 non-null  bool   \n",
      " 33  occupation_healthcare     136695 non-null  bool   \n",
      " 34  occupation_homemaker      136695 non-null  bool   \n",
      " 35  occupation_lawyer         136695 non-null  bool   \n",
      " 36  occupation_librarian      136695 non-null  bool   \n",
      " 37  occupation_marketing      136695 non-null  bool   \n",
      " 38  occupation_none           136695 non-null  bool   \n",
      " 39  occupation_other          136695 non-null  bool   \n",
      " 40  occupation_programmer     136695 non-null  bool   \n",
      " 41  occupation_retired        136695 non-null  bool   \n",
      " 42  occupation_salesman       136695 non-null  bool   \n",
      " 43  occupation_scientist      136695 non-null  bool   \n",
      " 44  occupation_student        136695 non-null  bool   \n",
      " 45  occupation_technician     136695 non-null  bool   \n",
      " 46  occupation_writer         136695 non-null  bool   \n",
      " 47  age_normalized            136695 non-null  float64\n",
      "dtypes: bool(23), float64(2), int64(23)\n",
      "memory usage: 29.1 MB\n"
     ]
    }
   ],
   "source": [
    "X_resampled.info()"
   ],
   "metadata": {
    "collapsed": false
   },
   "id": "af00df5579b85a58"
  },
  {
   "cell_type": "code",
   "execution_count": 7,
   "outputs": [],
   "source": [
    "y_resampled = pd.DataFrame(y_resampled)"
   ],
   "metadata": {
    "collapsed": false,
    "ExecuteTime": {
     "end_time": "2023-11-30T15:04:35.617630930Z",
     "start_time": "2023-11-30T15:04:35.614080141Z"
    }
   },
   "id": "50aa799660afa927"
  },
  {
   "cell_type": "code",
   "execution_count": 8,
   "outputs": [
    {
     "name": "stderr",
     "output_type": "stream",
     "text": [
      "136695it [00:11, 12082.87it/s]\n"
     ]
    }
   ],
   "source": [
    "from tqdm import tqdm\n",
    "import numpy as np\n",
    "\n",
    "# Get a list of all movie IDs\n",
    "all_movieIds = X_resampled['movie_id'].unique()\n",
    "\n",
    "# Placeholders that will hold the training data\n",
    "users, items, labels = [], [], []\n",
    "\n",
    "# Threshold for positive interactions (e.g., ratings > 3)\n",
    "positive_threshold = 3\n",
    "num_negatives = 4\n",
    "# This is the set of items that each user has interaction with\n",
    "user_item_set = set(zip(X_resampled['user_id'], X_resampled['movie_id']))\n",
    "\n",
    "for _, row in tqdm(X_resampled.iterrows()):\n",
    "    user_id, movie_id, rating = row['user_id'], row['movie_id'], y_resampled.iloc[_][0]\n",
    "    \n",
    "    # Binarize the rating based on the threshold\n",
    "    interaction_label = 1 if rating > positive_threshold else 0\n",
    "    \n",
    "    users.append(user_id)\n",
    "    items.append(movie_id)\n",
    "    labels.append(interaction_label)\n",
    "    \n",
    "    if interaction_label == 1:  # Positive interaction\n",
    "        for _ in range(num_negatives):\n",
    "            # Randomly select a negative item\n",
    "            negative_item = np.random.choice(all_movieIds)\n",
    "            # Check that the user has not interacted with this item\n",
    "            while (user_id, negative_item) in user_item_set:\n",
    "                negative_item = np.random.choice(all_movieIds)\n",
    "            users.append(user_id)\n",
    "            items.append(negative_item)\n",
    "            labels.append(0)  # Negative interaction\n"
   ],
   "metadata": {
    "collapsed": false,
    "ExecuteTime": {
     "end_time": "2023-11-30T15:04:48.732501926Z",
     "start_time": "2023-11-30T15:04:37.326841713Z"
    }
   },
   "id": "2914dac6f49df963"
  },
  {
   "cell_type": "code",
   "execution_count": 9,
   "outputs": [],
   "source": [
    "train['rating'] = y_resampled"
   ],
   "metadata": {
    "collapsed": false,
    "ExecuteTime": {
     "end_time": "2023-11-30T15:05:07.315557766Z",
     "start_time": "2023-11-30T15:05:07.307839524Z"
    }
   },
   "id": "d732db80608b6695"
  },
  {
   "cell_type": "code",
   "execution_count": 24,
   "outputs": [],
   "source": [
    "train['rank_latest'] = train.groupby(['user_id'])['timestamp'] \\\n",
    "                                .rank(method='first', ascending=False)\n",
    "test['rank_latest'] = test.groupby(['user_id'])['timestamp'] \\\n",
    "                                .rank(method='first', ascending=False)\n",
    "train_ratings = train[train['rank_latest'] != 1]\n",
    "test_ratings = test[test['rank_latest'] == 1]\n",
    "\n",
    "# drop columns that we no longer need\n",
    "train_ratings = train_ratings[['user_id', 'movie_id', 'rating']]\n",
    "test_ratings = test_ratings[['user_id', 'movie_id', 'rating']]"
   ],
   "metadata": {
    "collapsed": false,
    "ExecuteTime": {
     "end_time": "2023-11-30T15:17:55.133614645Z",
     "start_time": "2023-11-30T15:17:55.090090244Z"
    }
   },
   "id": "cab2e8a980146234"
  },
  {
   "cell_type": "code",
   "execution_count": 33,
   "outputs": [],
   "source": [
    "test_ratings.to_csv('../benchmark/data.csv', index=False)"
   ],
   "metadata": {
    "collapsed": false,
    "ExecuteTime": {
     "end_time": "2023-11-30T15:43:35.533158932Z",
     "start_time": "2023-11-30T15:43:35.490520003Z"
    }
   },
   "id": "77e4e52e227092dd"
  },
  {
   "cell_type": "code",
   "execution_count": 25,
   "outputs": [],
   "source": [
    "from torch.utils.data import Dataset\n",
    "import torch\n",
    "\n",
    "class MovieLensTrainDataset(Dataset):\n",
    "    \"\"\"MovieLens PyTorch Dataset for Training\n",
    "    \n",
    "    Args:\n",
    "        ratings (pd.DataFrame): Dataframe containing the movie ratings\n",
    "        all_movieIds (list): List containing all movieIds\n",
    "    \n",
    "    \"\"\"\n",
    "\n",
    "    def __init__(self, ratings, all_movieIds):\n",
    "        self.users, self.items, self.labels = self.get_dataset(ratings, all_movieIds)\n",
    "\n",
    "    def __len__(self):\n",
    "        return len(self.users)\n",
    "  \n",
    "    def __getitem__(self, idx):\n",
    "        return self.users[idx], self.items[idx], self.labels[idx]\n",
    "\n",
    "    def get_dataset(self, ratings, all_movieIds):\n",
    "        # Threshold for positive interactions (e.g., ratings > 3)\n",
    "        positive_threshold = 3\n",
    "        num_negatives = 4\n",
    "        # This is the set of items that each user has interaction with\n",
    "        user_item_set = set(zip(X_resampled['user_id'], X_resampled['movie_id']))\n",
    "        \n",
    "        for _, row in tqdm(X_resampled.iterrows()):\n",
    "            user_id, movie_id, rating = row['user_id'], row['movie_id'], y_resampled.iloc[_][0]\n",
    "            \n",
    "            # Binarize the rating based on the threshold\n",
    "            interaction_label = 1 if rating > positive_threshold else 0\n",
    "            \n",
    "            users.append(user_id)\n",
    "            items.append(movie_id)\n",
    "            labels.append(interaction_label)\n",
    "            \n",
    "            if interaction_label == 1:  # Positive interaction\n",
    "                for _ in range(num_negatives):\n",
    "                    # Randomly select a negative item\n",
    "                    negative_item = np.random.choice(all_movieIds)\n",
    "                    # Check that the user has not interacted with this item\n",
    "                    while (user_id, negative_item) in user_item_set:\n",
    "                        negative_item = np.random.choice(all_movieIds)\n",
    "                    users.append(user_id)\n",
    "                    items.append(negative_item)\n",
    "                    labels.append(0)  # Negative interaction\n",
    "    \n",
    "        return torch.tensor(users), torch.tensor(items), torch.tensor(labels)"
   ],
   "metadata": {
    "collapsed": false,
    "ExecuteTime": {
     "end_time": "2023-11-30T15:17:57.046706512Z",
     "start_time": "2023-11-30T15:17:57.044650488Z"
    }
   },
   "id": "a098feaf0d54a93a"
  },
  {
   "cell_type": "code",
   "execution_count": 26,
   "outputs": [],
   "source": [
    "from torch.utils.data import DataLoader\n",
    "import pytorch_lightning as pl\n",
    "from torch import nn\n",
    "\n",
    "class NCF(pl.LightningModule):\n",
    "    \"\"\" Neural Collaborative Filtering (NCF)\n",
    "    \n",
    "        Args:\n",
    "            num_users (int): Number of unique users\n",
    "            num_items (int): Number of unique items\n",
    "            ratings (pd.DataFrame): Dataframe containing the movie ratings for training\n",
    "            all_movieIds (list): List containing all movieIds (train + test)\n",
    "    \"\"\"\n",
    "    \n",
    "    def __init__(self, num_users, num_items, ratings, all_movieIds):\n",
    "        super().__init__()\n",
    "        self.user_embedding = nn.Embedding(num_embeddings=num_users, embedding_dim=8)\n",
    "        self.item_embedding = nn.Embedding(num_embeddings=num_items, embedding_dim=8)\n",
    "        self.fc1 = nn.Linear(in_features=16, out_features=64)\n",
    "        self.fc2 = nn.Linear(in_features=64, out_features=32)\n",
    "        self.output = nn.Linear(in_features=32, out_features=1)\n",
    "        self.ratings = ratings\n",
    "        self.all_movieIds = all_movieIds\n",
    "        \n",
    "    def forward(self, user_input, item_input):\n",
    "        \n",
    "        # Pass through embedding layers\n",
    "        user_embedded = self.user_embedding(user_input)\n",
    "        item_embedded = self.item_embedding(item_input)\n",
    "\n",
    "        # Concat the two embedding layers\n",
    "        vector = torch.cat([user_embedded, item_embedded], dim=-1)\n",
    "\n",
    "        # Pass through dense layer\n",
    "        vector = nn.ReLU()(self.fc1(vector))\n",
    "        vector = nn.ReLU()(self.fc2(vector))\n",
    "\n",
    "        # Output layer\n",
    "        pred = nn.Sigmoid()(self.output(vector))\n",
    "\n",
    "        return pred\n",
    "    \n",
    "    def training_step(self, batch, batch_idx):\n",
    "        user_input, item_input, labels = batch\n",
    "        predicted_labels = self(user_input, item_input)\n",
    "        loss = nn.BCELoss()(predicted_labels, labels.view(-1, 1).float())\n",
    "        return loss\n",
    "\n",
    "    def configure_optimizers(self):\n",
    "        return torch.optim.Adam(self.parameters())\n",
    "\n",
    "    def train_dataloader(self):\n",
    "        return DataLoader(MovieLensTrainDataset(self.ratings, self.all_movieIds),\n",
    "                          batch_size=512, num_workers=4)"
   ],
   "metadata": {
    "collapsed": false,
    "ExecuteTime": {
     "end_time": "2023-11-30T15:17:59.561237119Z",
     "start_time": "2023-11-30T15:17:59.559405201Z"
    }
   },
   "id": "ba24073682bc916c"
  },
  {
   "cell_type": "code",
   "execution_count": 27,
   "outputs": [],
   "source": [
    "num_users = X_resampled['user_id'].max()+1\n",
    "num_items = X_resampled['movie_id'].max()+1\n",
    "\n",
    "all_movieIds = X_resampled['movie_id'].unique()\n",
    "\n",
    "model = NCF(num_users, num_items, train_ratings, all_movieIds)"
   ],
   "metadata": {
    "collapsed": false,
    "ExecuteTime": {
     "end_time": "2023-11-30T15:18:02.411689574Z",
     "start_time": "2023-11-30T15:18:02.407109276Z"
    }
   },
   "id": "c38700a7c3e13087"
  },
  {
   "cell_type": "code",
   "execution_count": 28,
   "outputs": [
    {
     "name": "stderr",
     "output_type": "stream",
     "text": [
      "GPU available: False, used: False\n",
      "TPU available: False, using: 0 TPU cores\n",
      "IPU available: False, using: 0 IPUs\n",
      "HPU available: False, using: 0 HPUs\n",
      "\n",
      "  | Name           | Type      | Params\n",
      "---------------------------------------------\n",
      "0 | user_embedding | Embedding | 7.6 K \n",
      "1 | item_embedding | Embedding | 13.5 K\n",
      "2 | fc1            | Linear    | 1.1 K \n",
      "3 | fc2            | Linear    | 2.1 K \n",
      "4 | output         | Linear    | 33    \n",
      "---------------------------------------------\n",
      "24.2 K    Trainable params\n",
      "0         Non-trainable params\n",
      "24.2 K    Total params\n",
      "0.097     Total estimated model params size (MB)\n",
      "136695it [00:11, 11749.37it/s]\n"
     ]
    },
    {
     "data": {
      "text/plain": "Training: |          | 0/? [00:00<?, ?it/s]",
      "application/vnd.jupyter.widget-view+json": {
       "version_major": 2,
       "version_minor": 0,
       "model_id": "2dcde42cef014fb08be428b29f9ff7d3"
      }
     },
     "metadata": {},
     "output_type": "display_data"
    },
    {
     "name": "stderr",
     "output_type": "stream",
     "text": [
      "`Trainer.fit` stopped: `max_epochs=10` reached.\n"
     ]
    }
   ],
   "source": [
    "trainer = pl.Trainer(max_epochs=10)\n",
    "trainer.fit(model)"
   ],
   "metadata": {
    "collapsed": false,
    "ExecuteTime": {
     "end_time": "2023-11-30T15:19:19.453523187Z",
     "start_time": "2023-11-30T15:18:03.973546787Z"
    }
   },
   "id": "4d6770b9d7102ad7"
  },
  {
   "cell_type": "code",
   "execution_count": 29,
   "outputs": [
    {
     "name": "stderr",
     "output_type": "stream",
     "text": [
      "100%|██████████| 943/943 [00:00<00:00, 2103.62it/s]"
     ]
    },
    {
     "name": "stdout",
     "output_type": "stream",
     "text": [
      "The Hit Ratio @ 10 is 0.37\n"
     ]
    },
    {
     "name": "stderr",
     "output_type": "stream",
     "text": [
      "\n"
     ]
    }
   ],
   "source": [
    "# User-item pairs for testing\n",
    "test_user_item_set = set(zip(test_ratings['user_id'], test_ratings['movie_id']))\n",
    "\n",
    "# Dict of all items that are interacted with by each user\n",
    "user_interacted_items = df.groupby('user_id')['movie_id'].apply(list).to_dict()\n",
    "\n",
    "hits = []\n",
    "for (u,i) in tqdm(test_user_item_set):\n",
    "    interacted_items = user_interacted_items[u]\n",
    "    not_interacted_items = set(all_movieIds) - set(interacted_items)\n",
    "    selected_not_interacted = list(np.random.choice(list(not_interacted_items), 99))\n",
    "    test_items = selected_not_interacted + [i]\n",
    "    \n",
    "    predicted_labels = np.squeeze(model(torch.tensor([u]*100), \n",
    "                                        torch.tensor(test_items)).detach().numpy())\n",
    "    \n",
    "    top10_items = [test_items[i] for i in np.argsort(predicted_labels)[::-1][0:10].tolist()]\n",
    "    \n",
    "    if i in top10_items:\n",
    "        hits.append(1)\n",
    "    else:\n",
    "        hits.append(0)\n",
    "        \n",
    "print(\"The Hit Ratio @ 10 is {:.2f}\".format(np.average(hits)))"
   ],
   "metadata": {
    "collapsed": false,
    "ExecuteTime": {
     "end_time": "2023-11-30T15:19:40.136175469Z",
     "start_time": "2023-11-30T15:19:39.637231077Z"
    }
   },
   "id": "b25f620fe82813c7"
  }
 ],
 "metadata": {
  "kernelspec": {
   "display_name": "Python 3",
   "language": "python",
   "name": "python3"
  },
  "language_info": {
   "codemirror_mode": {
    "name": "ipython",
    "version": 2
   },
   "file_extension": ".py",
   "mimetype": "text/x-python",
   "name": "python",
   "nbconvert_exporter": "python",
   "pygments_lexer": "ipython2",
   "version": "2.7.6"
  }
 },
 "nbformat": 4,
 "nbformat_minor": 5
}
